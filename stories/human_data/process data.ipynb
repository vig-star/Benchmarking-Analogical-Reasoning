{
 "cells": [
  {
   "cell_type": "code",
   "execution_count": null,
   "metadata": {},
   "outputs": [],
   "source": [
    "import pandas as pd\n",
    "from statsmodels.stats.proportion import proportion_confint\n",
    "\n",
    "fname = 'data_stories_original.csv'\n",
    "\n",
    "data_df = pd.read_csv(fname)\n"
   ]
  },
  {
   "cell_type": "code",
   "execution_count": 8,
   "metadata": {},
   "outputs": [
    {
     "name": "stdout",
     "output_type": "stream",
     "text": [
      "Overall accuracy is: 0.783\n",
      "Overall confidence intervals are: 0.753, 0.813\n",
      "First answer accuracy is: 0.783, over 373 responses\n",
      "Second answer accuracy is: 0.784, over 347 responses\n"
     ]
    }
   ],
   "source": [
    "overall_accuracy = sum(data_df.response == data_df.prob_ind)/len(data_df)\n",
    "print(f'Overall accuracy is: {overall_accuracy:.3f}')\n",
    "ci_overall = proportion_confint(sum(data_df.response == data_df.prob_ind), len(data_df))\n",
    "print(f'Overall confidence intervals are: {ci_overall[0]:.3f}, {ci_overall[1]:.3f}')\n",
    "first_answer_acc = sum(data_df.response[data_df.prob_ind==0]==data_df.prob_ind[data_df.prob_ind==0])/len(data_df.response[data_df.prob_ind==0])\n",
    "print(f'First answer accuracy is: {first_answer_acc:.3f}, over {len(data_df.response[data_df.prob_ind==0])} responses')\n",
    "second_answer_acc = sum(data_df.response[data_df.prob_ind==1]==data_df.prob_ind[data_df.prob_ind==1])/len(data_df.response[data_df.prob_ind==1])\n",
    "print(f'Second answer accuracy is: {second_answer_acc:.3f}, over {len(data_df.response[data_df.prob_ind==1])} responses')\n",
    "\n"
   ]
  }
 ],
 "metadata": {
  "kernelspec": {
   "display_name": "gpt_analogy",
   "language": "python",
   "name": "python3"
  },
  "language_info": {
   "codemirror_mode": {
    "name": "ipython",
    "version": 3
   },
   "file_extension": ".py",
   "mimetype": "text/x-python",
   "name": "python",
   "nbconvert_exporter": "python",
   "pygments_lexer": "ipython3",
   "version": "3.9.19"
  }
 },
 "nbformat": 4,
 "nbformat_minor": 2
}
